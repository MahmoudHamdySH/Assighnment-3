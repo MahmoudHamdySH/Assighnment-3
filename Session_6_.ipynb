{
  "nbformat": 4,
  "nbformat_minor": 0,
  "metadata": {
    "colab": {
      "provenance": [],
      "collapsed_sections": [],
      "authorship_tag": "ABX9TyN051vmNMKd/AvNQBGvwdFk",
      "include_colab_link": true
    },
    "kernelspec": {
      "name": "python3",
      "display_name": "Python 3"
    },
    "language_info": {
      "name": "python"
    }
  },
  "cells": [
    {
      "cell_type": "markdown",
      "metadata": {
        "id": "view-in-github",
        "colab_type": "text"
      },
      "source": [
        "<a href=\"https://colab.research.google.com/github/MahmoudHamdySH/Assighnment-3/blob/main/Session_6_.ipynb\" target=\"_parent\"><img src=\"https://colab.research.google.com/assets/colab-badge.svg\" alt=\"Open In Colab\"/></a>"
      ]
    },
    {
      "cell_type": "code",
      "execution_count": 1,
      "metadata": {
        "id": "35QW8feb_j_g"
      },
      "outputs": [],
      "source": [
        "from tensorflow.keras.datasets import mnist\n",
        "import matplotlib.pyplot as plt \n",
        "import numpy as np "
      ]
    },
    {
      "cell_type": "code",
      "source": [
        "(train_X,train_y),(test_X,test_y)=mnist.load_data()"
      ],
      "metadata": {
        "colab": {
          "base_uri": "https://localhost:8080/"
        },
        "id": "yeGOrVhWAqlU",
        "outputId": "05dfc8db-d23d-468f-ecff-1662196fe9a4"
      },
      "execution_count": 2,
      "outputs": [
        {
          "output_type": "stream",
          "name": "stdout",
          "text": [
            "Downloading data from https://storage.googleapis.com/tensorflow/tf-keras-datasets/mnist.npz\n",
            "11490434/11490434 [==============================] - 0s 0us/step\n"
          ]
        }
      ]
    },
    {
      "cell_type": "code",
      "source": [
        "print(train_X.shape,test_X.shape)"
      ],
      "metadata": {
        "colab": {
          "base_uri": "https://localhost:8080/"
        },
        "id": "xqE1qiT7A1DV",
        "outputId": "c40ea792-eccb-40aa-c693-ceec1ff3fd88"
      },
      "execution_count": 4,
      "outputs": [
        {
          "output_type": "stream",
          "name": "stdout",
          "text": [
            "(60000, 28, 28) (10000, 28, 28)\n"
          ]
        }
      ]
    },
    {
      "cell_type": "code",
      "source": [
        "train_X=train_X/255\n",
        "test_X=test_X/255"
      ],
      "metadata": {
        "id": "RRk7Z0KUA6AP"
      },
      "execution_count": 5,
      "outputs": []
    },
    {
      "cell_type": "code",
      "source": [
        "train_y"
      ],
      "metadata": {
        "colab": {
          "base_uri": "https://localhost:8080/"
        },
        "id": "N1XuDXS1BHDQ",
        "outputId": "6353a53c-c0aa-4d8d-9e42-6cacd4c69a22"
      },
      "execution_count": 6,
      "outputs": [
        {
          "output_type": "execute_result",
          "data": {
            "text/plain": [
              "array([5, 0, 4, ..., 5, 6, 8], dtype=uint8)"
            ]
          },
          "metadata": {},
          "execution_count": 6
        }
      ]
    },
    {
      "cell_type": "code",
      "source": [
        "from tensorflow.keras.utils import to_categorical\n",
        "train_y=to_categorical(train_y)"
      ],
      "metadata": {
        "id": "uzl2JaQvBIk3"
      },
      "execution_count": 10,
      "outputs": []
    },
    {
      "cell_type": "code",
      "source": [
        "train_y[0]"
      ],
      "metadata": {
        "colab": {
          "base_uri": "https://localhost:8080/"
        },
        "id": "pevKB-u7CKPt",
        "outputId": "e1c79959-736a-414f-83f4-317735a59bb5"
      },
      "execution_count": 11,
      "outputs": [
        {
          "output_type": "execute_result",
          "data": {
            "text/plain": [
              "array([0., 0., 0., 0., 0., 1., 0., 0., 0., 0.], dtype=float32)"
            ]
          },
          "metadata": {},
          "execution_count": 11
        }
      ]
    },
    {
      "cell_type": "code",
      "source": [
        "train_y"
      ],
      "metadata": {
        "colab": {
          "base_uri": "https://localhost:8080/"
        },
        "id": "81lnZz6FCy3C",
        "outputId": "9ff2630e-681c-4db9-ebf1-18e1c23121a6"
      },
      "execution_count": 12,
      "outputs": [
        {
          "output_type": "execute_result",
          "data": {
            "text/plain": [
              "array([[0., 0., 0., ..., 0., 0., 0.],\n",
              "       [1., 0., 0., ..., 0., 0., 0.],\n",
              "       [0., 0., 0., ..., 0., 0., 0.],\n",
              "       ...,\n",
              "       [0., 0., 0., ..., 0., 0., 0.],\n",
              "       [0., 0., 0., ..., 0., 0., 0.],\n",
              "       [0., 0., 0., ..., 0., 1., 0.]], dtype=float32)"
            ]
          },
          "metadata": {},
          "execution_count": 12
        }
      ]
    },
    {
      "cell_type": "code",
      "source": [
        "from tensorflow.keras.models import Sequential\n",
        "from tensorflow.keras.layers import Dense,Flatten,Dropout"
      ],
      "metadata": {
        "id": "gC0ZXP4vC1bz"
      },
      "execution_count": 20,
      "outputs": []
    },
    {
      "cell_type": "code",
      "source": [
        "model=Sequential()\n",
        "model.add(Flatten(input_shape=(28,28)))\n",
        "model.add(Dense(32,activation = 'relu'))\n",
        "model.add(Dense(64,activation = 'relu'))\n",
        "model.add(Dropout(0.3))\n",
        "model.add(Dense(10,activation = 'softmax'))\n",
        "model.summary()"
      ],
      "metadata": {
        "colab": {
          "base_uri": "https://localhost:8080/"
        },
        "id": "BM1c5sRaFVz2",
        "outputId": "365e2fdc-bcd1-4387-b664-a5486d246533"
      },
      "execution_count": 21,
      "outputs": [
        {
          "output_type": "stream",
          "name": "stdout",
          "text": [
            "Model: \"sequential_2\"\n",
            "_________________________________________________________________\n",
            " Layer (type)                Output Shape              Param #   \n",
            "=================================================================\n",
            " flatten_2 (Flatten)         (None, 784)               0         \n",
            "                                                                 \n",
            " dense_5 (Dense)             (None, 32)                25120     \n",
            "                                                                 \n",
            " dense_6 (Dense)             (None, 64)                2112      \n",
            "                                                                 \n",
            " dropout (Dropout)           (None, 64)                0         \n",
            "                                                                 \n",
            " dense_7 (Dense)             (None, 10)                650       \n",
            "                                                                 \n",
            "=================================================================\n",
            "Total params: 27,882\n",
            "Trainable params: 27,882\n",
            "Non-trainable params: 0\n",
            "_________________________________________________________________\n"
          ]
        }
      ]
    },
    {
      "cell_type": "code",
      "source": [
        "model.compile(loss='categorical_crossentropy',optimizer='adam',metrics=['accuracy'])\n",
        "history=model.fit(train_X,train_y,validation_split=0.2,batch_size=64,epochs=20)"
      ],
      "metadata": {
        "colab": {
          "base_uri": "https://localhost:8080/"
        },
        "id": "Xca_z5Y0GEMc",
        "outputId": "60264fbb-cb21-4f52-82b8-ee304a730748"
      },
      "execution_count": 22,
      "outputs": [
        {
          "output_type": "stream",
          "name": "stdout",
          "text": [
            "Epoch 1/20\n",
            "750/750 [==============================] - 4s 5ms/step - loss: 0.5481 - accuracy: 0.8373 - val_loss: 0.2146 - val_accuracy: 0.9367\n",
            "Epoch 2/20\n",
            "750/750 [==============================] - 2s 3ms/step - loss: 0.2459 - accuracy: 0.9303 - val_loss: 0.1707 - val_accuracy: 0.9497\n",
            "Epoch 3/20\n",
            "750/750 [==============================] - 2s 3ms/step - loss: 0.1972 - accuracy: 0.9437 - val_loss: 0.1592 - val_accuracy: 0.9542\n",
            "Epoch 4/20\n",
            "750/750 [==============================] - 2s 3ms/step - loss: 0.1699 - accuracy: 0.9507 - val_loss: 0.1386 - val_accuracy: 0.9585\n",
            "Epoch 5/20\n",
            "750/750 [==============================] - 2s 3ms/step - loss: 0.1472 - accuracy: 0.9570 - val_loss: 0.1318 - val_accuracy: 0.9607\n",
            "Epoch 6/20\n",
            "750/750 [==============================] - 2s 3ms/step - loss: 0.1334 - accuracy: 0.9599 - val_loss: 0.1285 - val_accuracy: 0.9619\n",
            "Epoch 7/20\n",
            "750/750 [==============================] - 2s 3ms/step - loss: 0.1238 - accuracy: 0.9630 - val_loss: 0.1189 - val_accuracy: 0.9645\n",
            "Epoch 8/20\n",
            "750/750 [==============================] - 2s 3ms/step - loss: 0.1125 - accuracy: 0.9667 - val_loss: 0.1181 - val_accuracy: 0.9653\n",
            "Epoch 9/20\n",
            "750/750 [==============================] - 2s 3ms/step - loss: 0.1051 - accuracy: 0.9684 - val_loss: 0.1218 - val_accuracy: 0.9642\n",
            "Epoch 10/20\n",
            "750/750 [==============================] - 2s 3ms/step - loss: 0.0974 - accuracy: 0.9702 - val_loss: 0.1220 - val_accuracy: 0.9644\n",
            "Epoch 11/20\n",
            "750/750 [==============================] - 2s 3ms/step - loss: 0.0916 - accuracy: 0.9717 - val_loss: 0.1128 - val_accuracy: 0.9679\n",
            "Epoch 12/20\n",
            "750/750 [==============================] - 2s 3ms/step - loss: 0.0852 - accuracy: 0.9733 - val_loss: 0.1217 - val_accuracy: 0.9648\n",
            "Epoch 13/20\n",
            "750/750 [==============================] - 2s 3ms/step - loss: 0.0812 - accuracy: 0.9753 - val_loss: 0.1181 - val_accuracy: 0.9659\n",
            "Epoch 14/20\n",
            "750/750 [==============================] - 2s 3ms/step - loss: 0.0784 - accuracy: 0.9751 - val_loss: 0.1175 - val_accuracy: 0.9663\n",
            "Epoch 15/20\n",
            "750/750 [==============================] - 2s 3ms/step - loss: 0.0723 - accuracy: 0.9769 - val_loss: 0.1153 - val_accuracy: 0.9669\n",
            "Epoch 16/20\n",
            "750/750 [==============================] - 2s 3ms/step - loss: 0.0686 - accuracy: 0.9787 - val_loss: 0.1149 - val_accuracy: 0.9684\n",
            "Epoch 17/20\n",
            "750/750 [==============================] - 2s 3ms/step - loss: 0.0671 - accuracy: 0.9793 - val_loss: 0.1166 - val_accuracy: 0.9677\n",
            "Epoch 18/20\n",
            "750/750 [==============================] - 2s 3ms/step - loss: 0.0623 - accuracy: 0.9798 - val_loss: 0.1103 - val_accuracy: 0.9701\n",
            "Epoch 19/20\n",
            "750/750 [==============================] - 2s 3ms/step - loss: 0.0596 - accuracy: 0.9806 - val_loss: 0.1115 - val_accuracy: 0.9694\n",
            "Epoch 20/20\n",
            "750/750 [==============================] - 2s 3ms/step - loss: 0.0571 - accuracy: 0.9818 - val_loss: 0.1284 - val_accuracy: 0.9659\n"
          ]
        }
      ]
    },
    {
      "cell_type": "code",
      "source": [],
      "metadata": {
        "id": "X8p2nTNfGiGk"
      },
      "execution_count": null,
      "outputs": []
    }
  ]
}