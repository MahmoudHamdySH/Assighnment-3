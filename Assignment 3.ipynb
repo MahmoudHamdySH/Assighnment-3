{
 "cells": [
  {
   "cell_type": "markdown",
   "metadata": {},
   "source": [
    "# Assignment 3"
   ]
  },
  {
   "cell_type": "markdown",
   "metadata": {},
   "source": [
    "### Write a function to count the number 4 in a given list."
   ]
  },
  {
   "cell_type": "code",
   "execution_count": 13,
   "metadata": {},
   "outputs": [
    {
     "data": {
      "text/plain": [
       "5"
      ]
     },
     "execution_count": 13,
     "metadata": {},
     "output_type": "execute_result"
    }
   ],
   "source": [
    " def countt (nums):\n",
    "    count = 0   \n",
    "    for i in nums:\n",
    "        if i ==4:\n",
    "            count+=1\n",
    "    return count\n",
    "\n",
    "countt([4,5,6,4,4,7,8,4,4,6])"
   ]
  },
  {
   "cell_type": "markdown",
   "metadata": {},
   "source": [
    "### write a  function to check whether a number is divisible by another number."
   ]
  },
  {
   "cell_type": "code",
   "execution_count": 37,
   "metadata": {},
   "outputs": [
    {
     "name": "stdout",
     "output_type": "stream",
     "text": [
      "50 is divisible by 5\n"
     ]
    }
   ],
   "source": [
    "# def checkk ():\n",
    "#     n1=float(input(\"please give your first number: \"))\n",
    "#     n2= float(input(\"please give your second number: \"))\n",
    "#     if n1%n2==0.0:\n",
    "#         x= print(str(n1)+\"is divisible by \"+str(n2)\n",
    "#     #return x\n",
    "#     else:\n",
    "#          x= print(str(n1)+\"is not divisible by \"+str(n2)\n",
    "#     return x\n",
    "                  \n",
    "# checkk()\n",
    "\n",
    "def funn (x,y):\n",
    "    if x%y==0:\n",
    "        print(str(x)+\" is divisible by \"+str(y))\n",
    "    else:\n",
    "        print(str(x)+\" is not divisible by \"+str(y))\n",
    "        return \n",
    "funn(50,5)"
   ]
  },
  {
   "cell_type": "markdown",
   "metadata": {},
   "source": [
    "### write a function to find the maximum and minimum numbers from a sequence of numbers."
   ]
  },
  {
   "cell_type": "code",
   "execution_count": 52,
   "metadata": {},
   "outputs": [
    {
     "name": "stdout",
     "output_type": "stream",
     "text": [
      "1 is the min value\n",
      "984968 is the max value\n"
     ]
    }
   ],
   "source": [
    "listt = [4,2,35,84,651,89,462,19,84,6,1,89,4,62,189,4,5,16,49,84,6,984968]\n",
    "\n",
    "def compare (my_list):\n",
    "    min_ = max_ = my_list[0]\n",
    "    for i in my_list:\n",
    "            if i < min_:\n",
    "                min_= i          \n",
    "            if i > max_:\n",
    "                max_ = i \n",
    "    print(str(min_)+\" is the min value\")\n",
    "    print(str(max_)+\" is the max value\")\n",
    "   \n",
    "compare(listt)"
   ]
  },
  {
   "cell_type": "markdown",
   "metadata": {},
   "source": [
    "### Write a Python function that takes two lists and returns True if they have at least one common member."
   ]
  },
  {
   "cell_type": "code",
   "execution_count": 76,
   "metadata": {},
   "outputs": [
    {
     "name": "stdout",
     "output_type": "stream",
     "text": [
      "5 true \n"
     ]
    },
    {
     "data": {
      "text/plain": [
       "True"
      ]
     },
     "execution_count": 76,
     "metadata": {},
     "output_type": "execute_result"
    }
   ],
   "source": [
    "x=[54,518,515,154,858,5]\n",
    "y=[5456,55618,54415,7154,55858,5]\n",
    "pointer = x[0]\n",
    "\n",
    "def twolists(list1,list2):\n",
    "    for i in list1:\n",
    "        if i not in list2:\n",
    "            pointer = i\n",
    "            continue\n",
    "            #print(str(i)+\" false \")\n",
    "        else:\n",
    "            \n",
    "            #print(str(i)+\" true \")\n",
    "            return True\n",
    "twolists(x,y)\n",
    "        "
   ]
  },
  {
   "cell_type": "markdown",
   "metadata": {},
   "source": [
    "### Write a Python function to calculate the factorial of a number (a non-negative integer). The function accepts the number from the user"
   ]
  },
  {
   "cell_type": "code",
   "execution_count": 87,
   "metadata": {},
   "outputs": [
    {
     "name": "stdout",
     "output_type": "stream",
     "text": [
      "please enter your number: 5\n",
      "The factorial of 5 is  120\n"
     ]
    }
   ],
   "source": [
    "def factoriaall():\n",
    "    f = 1\n",
    "    x = int(input(\"please enter your number: \"))\n",
    "    if x < 0:\n",
    "        print(\"please enter positive number: \")\n",
    "    elif x == 0:\n",
    "        print(\"The factorial of 0 = 1\")\n",
    "    else:\n",
    "        for i in range(1,x + 1):\n",
    "            f = f*i\n",
    "    print(\"The factorial of \"+str(x)+\" is \",str(f))\n",
    "\n",
    "factoriaall()\n",
    "        "
   ]
  },
  {
   "cell_type": "markdown",
   "metadata": {},
   "source": [
    "### Write a Python function to check whether a number is in a given range.\n",
    "\n",
    "### The range is from 3 to 11\n"
   ]
  },
  {
   "cell_type": "code",
   "execution_count": 90,
   "metadata": {},
   "outputs": [
    {
     "name": "stdout",
     "output_type": "stream",
     "text": [
      "please enter your number: 1\n",
      "your number is out of range\n"
     ]
    }
   ],
   "source": [
    "def rangeee (num):\n",
    "    if num in range(3,12):\n",
    "        print (\"your number is in range\")\n",
    "    else:\n",
    "        print (\"your number is out of range\")\n",
    "    \n",
    "x = int(input(\"please enter your number: \"))\n",
    "\n",
    "rangeee(x)"
   ]
  },
  {
   "cell_type": "markdown",
   "metadata": {},
   "source": [
    "### Write a  program to create the multiplication table (from 1 to 10) of a number."
   ]
  },
  {
   "cell_type": "code",
   "execution_count": 96,
   "metadata": {},
   "outputs": [
    {
     "name": "stdout",
     "output_type": "stream",
     "text": [
      "please enter your number: 2\n",
      "2\n",
      "4\n",
      "6\n",
      "8\n",
      "10\n",
      "12\n",
      "14\n",
      "16\n",
      "18\n",
      "20\n"
     ]
    }
   ],
   "source": [
    "def MULtable (num):\n",
    "    for i in range (1, 11):\n",
    "        x= i * num\n",
    "        print(x)\n",
    "#         for j in range (1,11):\n",
    "#             x=i * j for more than a mul table!\n",
    "            \n",
    "y = int(input(\"please enter your number: \"))          \n",
    "MULtable(y)"
   ]
  },
  {
   "cell_type": "markdown",
   "metadata": {},
   "source": [
    "#### LESSER OF TWO EVENS: Write a function that returns the lesser of two given numbers *if* both numbers are even, but returns the greater if one or both numbers are odd\n",
    "    lesser_of_two_evens(2,4) --> 2\n",
    "    lesser_of_two_evens(2,5) --> 5"
   ]
  },
  {
   "cell_type": "code",
   "execution_count": 105,
   "metadata": {},
   "outputs": [
    {
     "name": "stdout",
     "output_type": "stream",
     "text": [
      "lesser of two evens (5,2) is 5\n"
     ]
    }
   ],
   "source": [
    "def funnnc (num1,num2):\n",
    "    if num1%2==0 and num2%2==0:\n",
    "        if num1>num2:\n",
    "            print(\"lesser of two evens \"+\"(\"+ str(num1)+\",\"+str(num2)+\")\"+\" is \"+str(num2))\n",
    "        else:\n",
    "            print(\"lesser of two evens \"+\"(\"+ str(num1)+\",\"+str(num2)+\")\"+\" is \"+str(num1))\n",
    "    elif num1%2!=0 or num2%2!=0: \n",
    "        if num1>num2:\n",
    "            print(\"lesser of two evens \"+\"(\"+ str(num1)+\",\"+str(num2)+\")\"+\" is \"+str(num1))\n",
    "        else:\n",
    "            print(\"lesser of two evens \"+\"(\"+ str(num1)+\",\"+str(num2)+\")\"+\" is \"+str(num2))\n",
    "            \n",
    "funnnc(5,2)            "
   ]
  },
  {
   "cell_type": "markdown",
   "metadata": {},
   "source": [
    "#### ANIMAL CRACKERS: Write a function takes a two-word string and returns True if both words begin with same letter\n",
    "    animal_crackers('Levelheaded Llama') --> True\n",
    "    animal_crackers('Crazy Kangaroo') --> False"
   ]
  },
  {
   "cell_type": "code",
   "execution_count": 121,
   "metadata": {},
   "outputs": [
    {
     "name": "stdout",
     "output_type": "stream",
     "text": [
      "Black Giraff\n"
     ]
    },
    {
     "data": {
      "text/plain": [
       "False"
      ]
     },
     "execution_count": 121,
     "metadata": {},
     "output_type": "execute_result"
    }
   ],
   "source": [
    "def function3 (a,b):\n",
    "    if a[0] == b[0]:\n",
    "        print(a,b)\n",
    "        #print(\"true\")\n",
    "        return True\n",
    "    else:\n",
    "        print(a,b)\n",
    "        #print(\"false\")\n",
    "        return False\n",
    "    \n",
    "    \n",
    "function3(\"Black\", \"Giraff\")   "
   ]
  },
  {
   "cell_type": "markdown",
   "metadata": {},
   "source": [
    "#### MAKES TWENTY: Given two integers, return True if the sum of the integers is 20 *or* if one of the integers is 20. If not, return False\n",
    "\n",
    "    makes_twenty(20,10) --> True\n",
    "    makes_twenty(12,8) --> True\n",
    "    makes_twenty(2,3) --> False"
   ]
  },
  {
   "cell_type": "code",
   "execution_count": 125,
   "metadata": {},
   "outputs": [
    {
     "name": "stdout",
     "output_type": "stream",
     "text": [
      "please enter first number20\n",
      "please enter second number4\n",
      "20 4\n"
     ]
    },
    {
     "data": {
      "text/plain": [
       "True"
      ]
     },
     "execution_count": 125,
     "metadata": {},
     "output_type": "execute_result"
    }
   ],
   "source": [
    "def func5 (x,y):\n",
    "    if x + y == 20:\n",
    "        print(x,y)\n",
    "        return True\n",
    "    elif x==20 or y==20:\n",
    "        print(x,y)\n",
    "        return True\n",
    "    else:\n",
    "        print(x,y)\n",
    "        return False\n",
    "    \n",
    "a=int(input(\"please enter first number\"))\n",
    "b=int(input(\"please enter second number\"))\n",
    "func5(a,b)"
   ]
  },
  {
   "cell_type": "markdown",
   "metadata": {},
   "source": [
    "#### ALMOST THERE: Given an integer n, return True if n is within 10 of either 100 or 200\n",
    "\n",
    "    almost_there(90) --> True\n",
    "    almost_there(104) --> True\n",
    "    almost_there(150) --> False\n",
    "    almost_there(209) --> True\n",
    "    \n",
    "NOTE: `abs(num)` returns the absolute value of a number"
   ]
  },
  {
   "cell_type": "code",
   "execution_count": 131,
   "metadata": {},
   "outputs": [
    {
     "name": "stdout",
     "output_type": "stream",
     "text": [
      "please enter your number50\n"
     ]
    },
    {
     "data": {
      "text/plain": [
       "False"
      ]
     },
     "execution_count": 131,
     "metadata": {},
     "output_type": "execute_result"
    }
   ],
   "source": [
    "def functionN (n):\n",
    "    if 90<=n<=100 or 190<=n<=200 :\n",
    "        return True\n",
    "    else:\n",
    "        return False\n",
    "    \n",
    "a=int(input(\"please enter your number\"))\n",
    "functionN(a)"
   ]
  },
  {
   "cell_type": "markdown",
   "metadata": {},
   "source": [
    "#### BLACKJACK: Given three integers between 1 and 11, if their sum is less than or equal to 21, return their sum. If their sum exceeds 21 *and* there's an eleven, reduce the total sum by 10. Finally, if the sum  exceeds 21, return 'BUST'\n",
    "    blackjack(5,6,7) --> 18\n",
    "    blackjack(9,9,9) --> 'BUST'\n",
    "    blackjack(9,9,11) --> 19"
   ]
  },
  {
   "cell_type": "code",
   "execution_count": 138,
   "metadata": {},
   "outputs": [
    {
     "data": {
      "text/plain": [
       "'BUST'"
      ]
     },
     "execution_count": 138,
     "metadata": {},
     "output_type": "execute_result"
    }
   ],
   "source": [
    "def blackjack(a,b,c):\n",
    "    if sum([a,b,c]) <= 21:\n",
    "        result = a+b+c\n",
    "        return result\n",
    "    elif 11 in [a,b,c] and sum([a,b,c]) <= 21:\n",
    "        reslt  = a+b+c-10\n",
    "        return reslult\n",
    "    else:\n",
    "        return \"BUST\"\n",
    "\n",
    "blackjack(11,5,7)"
   ]
  },
  {
   "cell_type": "code",
   "execution_count": null,
   "metadata": {},
   "outputs": [],
   "source": []
  }
 ],
 "metadata": {
  "kernelspec": {
   "display_name": "Python 3 (ipykernel)",
   "language": "python",
   "name": "python3"
  },
  "language_info": {
   "codemirror_mode": {
    "name": "ipython",
    "version": 3
   },
   "file_extension": ".py",
   "mimetype": "text/x-python",
   "name": "python",
   "nbconvert_exporter": "python",
   "pygments_lexer": "ipython3",
   "version": "3.9.12"
  }
 },
 "nbformat": 4,
 "nbformat_minor": 2
}
