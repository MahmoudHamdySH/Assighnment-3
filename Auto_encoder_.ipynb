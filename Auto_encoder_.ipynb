{
  "nbformat": 4,
  "nbformat_minor": 0,
  "metadata": {
    "colab": {
      "provenance": [],
      "collapsed_sections": [],
      "authorship_tag": "ABX9TyO9/PkeIVc0QFG1CIIGokQV",
      "include_colab_link": true
    },
    "kernelspec": {
      "name": "python3",
      "display_name": "Python 3"
    },
    "language_info": {
      "name": "python"
    }
  },
  "cells": [
    {
      "cell_type": "markdown",
      "metadata": {
        "id": "view-in-github",
        "colab_type": "text"
      },
      "source": [
        "<a href=\"https://colab.research.google.com/github/MahmoudHamdySH/Assighnment-3/blob/main/Auto_encoder_.ipynb\" target=\"_parent\"><img src=\"https://colab.research.google.com/assets/colab-badge.svg\" alt=\"Open In Colab\"/></a>"
      ]
    },
    {
      "cell_type": "code",
      "execution_count": 3,
      "metadata": {
        "id": "MFbGTtbAupGn"
      },
      "outputs": [],
      "source": [
        "from tensorflow.keras.datasets import mnist"
      ]
    },
    {
      "cell_type": "code",
      "source": [
        "import numpy as np \n",
        "import matplotlib.pyplot as plt\n"
      ],
      "metadata": {
        "id": "9DrzTgudv6t7"
      },
      "execution_count": 5,
      "outputs": []
    },
    {
      "cell_type": "code",
      "source": [
        "(train_X, train_y),(test_X,test_y)=mnist.load_data()"
      ],
      "metadata": {
        "colab": {
          "base_uri": "https://localhost:8080/"
        },
        "id": "7ZuQTyifv7KR",
        "outputId": "a748058c-818d-41ca-ff66-c2026fc53033"
      },
      "execution_count": 6,
      "outputs": [
        {
          "output_type": "stream",
          "name": "stdout",
          "text": [
            "Downloading data from https://storage.googleapis.com/tensorflow/tf-keras-datasets/mnist.npz\n",
            "11490434/11490434 [==============================] - 0s 0us/step\n"
          ]
        }
      ]
    },
    {
      "cell_type": "code",
      "source": [
        "plt.imshow(train_X[0], cmap='gray')\n",
        "plt.title(train_y[0])\n",
        "plt.show()"
      ],
      "metadata": {
        "colab": {
          "base_uri": "https://localhost:8080/",
          "height": 281
        },
        "id": "5FTYkE8BwmF_",
        "outputId": "7daa0301-b055-4c30-b0c9-19d1be4d6e4a"
      },
      "execution_count": 9,
      "outputs": [
        {
          "output_type": "display_data",
          "data": {
            "text/plain": [
              "<Figure size 432x288 with 1 Axes>"
            ],
            "image/png": "[encoded data removed]"
          },
          "metadata": {
            "needs_background": "light"
          }
        }
      ]
    },
    {
      "cell_type": "code",
      "source": [
        "#each pixle 0-->255"
      ],
      "metadata": {
        "id": "HLHlVfXSxGjP"
      },
      "execution_count": 10,
      "outputs": []
    },
    {
      "cell_type": "code",
      "source": [
        "train_X = train_X/255\n",
        "test_X = test_X/255"
      ],
      "metadata": {
        "id": "FLZOtWtExUCI"
      },
      "execution_count": 11,
      "outputs": []
    },
    {
      "cell_type": "code",
      "source": [
        "train_X[0].shape"
      ],
      "metadata": {
        "colab": {
          "base_uri": "https://localhost:8080/"
        },
        "id": "AZac8wmJxd3G",
        "outputId": "d698c939-f165-41b3-ee53-dffc8c52da6b"
      },
      "execution_count": 16,
      "outputs": [
        {
          "output_type": "execute_result",
          "data": {
            "text/plain": [
              "(28, 28)"
            ]
          },
          "metadata": {},
          "execution_count": 16
        }
      ]
    },
    {
      "cell_type": "markdown",
      "source": [
        "##Model"
      ],
      "metadata": {
        "id": "p8Eo66P3xoby"
      }
    },
    {
      "cell_type": "code",
      "source": [
        "from tensorflow.keras.models import Model,Sequential\n",
        "from tensorflow.keras.layers import Dense,Flatten,Dropout,Reshape,Input"
      ],
      "metadata": {
        "id": "zHzFdNhtxq4F"
      },
      "execution_count": 35,
      "outputs": []
    },
    {
      "cell_type": "code",
      "source": [
        "latent_size=32\n",
        "encoder=Sequential()\n",
        "encoder.add(Flatten(input_shape=(28,28)))\n",
        "encoder.add(Dense(512))\n",
        "encoder.add(Dropout(0.5))\n",
        "encoder.add(Dense(128))\n",
        "encoder.add(Dropout(0.5))\n",
        "encoder.add(Dense(64))\n",
        "encoder.add(Dropout(0.5))\n",
        "encoder.add(Dense(latent_size,activation='sigmoid'))"
      ],
      "metadata": {
        "id": "_DTyxhrgyA2l"
      },
      "execution_count": 39,
      "outputs": []
    },
    {
      "cell_type": "code",
      "source": [
        "# decoder Archeticture\n",
        "\n",
        "decoder = Sequential()\n",
        "decoder.add(Dense(64,input_shape=(latent_size,)))\n",
        "decoder.add(Dropout(0.5))\n",
        "decoder.add(Dense(128))\n",
        "decoder.add(Dropout(0.5))\n",
        "decoder.add(Dense(512))\n",
        "decoder.add(Dropout(0.5))\n",
        "decoder.add(Dense(784,activation='sigmoid'))\n",
        "decoder.add(Reshape((28,28)))\n"
      ],
      "metadata": {
        "id": "Qs8KEm0Jzbea"
      },
      "execution_count": 41,
      "outputs": []
    },
    {
      "cell_type": "code",
      "source": [
        "img=Input(shape=(28,28))\n",
        "latent_vector=encoder(img)\n",
        "output=decoder(latent_vector)"
      ],
      "metadata": {
        "id": "snS3kMba1Bdi"
      },
      "execution_count": 42,
      "outputs": []
    },
    {
      "cell_type": "code",
      "source": [
        "model=Model(inputs=img,outputs=output)\n",
        "model.compile(loss='binary_crossentropy',optimizer=\"adam\")"
      ],
      "metadata": {
        "id": "21uiu8ll2BP1"
      },
      "execution_count": 46,
      "outputs": []
    },
    {
      "cell_type": "code",
      "source": [
        "from IPython import display"
      ],
      "metadata": {
        "id": "SfJkweb15Ufa"
      },
      "execution_count": 47,
      "outputs": []
    },
    {
      "cell_type": "code",
      "source": [
        "from random import randint\n",
        "epochs=1000\n",
        "\n",
        "for epoch in range(epochs):\n",
        "\n",
        "  print(\"Epoch : \",epoch)\n",
        "  model.fit(train_X,train_X,batch_size=64)\n",
        "  fig,axs=plt.subplots(4,4,figsize=(4,4,))\n",
        "  rand=test_X[np.random.randint(0,10000,16)].reshape((4,4,1,28,28))\n",
        "\n",
        "  display.clear_output()\n",
        "\n",
        "  for i in range(4):\n",
        "    for j in range(4):\n",
        "      axs[i,j].imshow(model.predict(rand[i,j])[0],cmap=\"gray\")\n",
        "      axs[i,j].axis(\"off\")\n",
        "\n",
        "\n",
        "  plt.subplots_adjust(wspace=0,hspace=0)\n",
        "  plt.show()\n",
        "\n"
      ],
      "metadata": {
        "colab": {
          "base_uri": "https://localhost:8080/",
          "height": 560
        },
        "id": "jG-xM6Rr2XiB",
        "outputId": "8c5af1b2-b074-4e7e-9e36-bd01ef1b2549"
      },
      "execution_count": null,
      "outputs": [
        {
          "output_type": "stream",
          "name": "stdout",
          "text": [
            "1/1 [==============================] - 0s 22ms/step\n",
            "1/1 [==============================] - 0s 20ms/step\n",
            "1/1 [==============================] - 0s 22ms/step\n",
            "1/1 [==============================] - 0s 26ms/step\n",
            "1/1 [==============================] - 0s 19ms/step\n",
            "1/1 [==============================] - 0s 20ms/step\n",
            "1/1 [==============================] - 0s 19ms/step\n",
            "1/1 [==============================] - 0s 23ms/step\n",
            "1/1 [==============================] - 0s 21ms/step\n",
            "1/1 [==============================] - 0s 19ms/step\n",
            "1/1 [==============================] - 0s 22ms/step\n",
            "1/1 [==============================] - 0s 24ms/step\n",
            "1/1 [==============================] - 0s 21ms/step\n",
            "1/1 [==============================] - 0s 19ms/step\n",
            "1/1 [==============================] - 0s 21ms/step\n",
            "1/1 [==============================] - 0s 20ms/step\n"
          ]
        },
        {
          "output_type": "display_data",
          "data": {
            "text/plain": [
              "<Figure size 288x288 with 16 Axes>"
            ],
            "image/png": "[encoded data removed]"
          },
          "metadata": {
            "needs_background": "light"
          }
        },
        {
          "output_type": "stream",
          "name": "stdout",
          "text": [
            "Epoch :  191\n",
            "598/938 [==================>...........] - ETA: 7s - loss: 0.2137"
          ]
        }
      ]
    },
    {
      "cell_type": "code",
      "source": [],
      "metadata": {
        "id": "c4Ld_xYx3LRO"
      },
      "execution_count": null,
      "outputs": []
    }
  ]
}